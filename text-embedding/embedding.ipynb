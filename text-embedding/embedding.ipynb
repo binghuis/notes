{
 "cells": [
  {
   "cell_type": "code",
   "execution_count": 5,
   "metadata": {},
   "outputs": [
    {
     "name": "stdout",
     "output_type": "stream",
     "text": [
      "Requirement already satisfied: tiktoken in /Users/songbinghui/miniconda3/lib/python3.10/site-packages (0.4.0)\n",
      "Requirement already satisfied: chardet in /Users/songbinghui/miniconda3/lib/python3.10/site-packages (5.1.0)\n",
      "Requirement already satisfied: openai in /Users/songbinghui/miniconda3/lib/python3.10/site-packages (0.27.8)\n",
      "Requirement already satisfied: pandas in /Users/songbinghui/miniconda3/lib/python3.10/site-packages (2.0.3)\n",
      "Requirement already satisfied: python-dotenv in /Users/songbinghui/miniconda3/lib/python3.10/site-packages (1.0.0)\n",
      "Requirement already satisfied: requests>=2.26.0 in /Users/songbinghui/miniconda3/lib/python3.10/site-packages (from tiktoken) (2.28.1)\n",
      "Requirement already satisfied: regex>=2022.1.18 in /Users/songbinghui/miniconda3/lib/python3.10/site-packages (from tiktoken) (2023.6.3)\n",
      "Requirement already satisfied: tqdm in /Users/songbinghui/miniconda3/lib/python3.10/site-packages (from openai) (4.65.0)\n",
      "Requirement already satisfied: aiohttp in /Users/songbinghui/miniconda3/lib/python3.10/site-packages (from openai) (3.8.5)\n",
      "Requirement already satisfied: python-dateutil>=2.8.2 in /Users/songbinghui/miniconda3/lib/python3.10/site-packages (from pandas) (2.8.2)\n",
      "Requirement already satisfied: tzdata>=2022.1 in /Users/songbinghui/miniconda3/lib/python3.10/site-packages (from pandas) (2023.3)\n",
      "Requirement already satisfied: pytz>=2020.1 in /Users/songbinghui/miniconda3/lib/python3.10/site-packages (from pandas) (2023.3)\n",
      "Requirement already satisfied: numpy>=1.21.0 in /Users/songbinghui/miniconda3/lib/python3.10/site-packages (from pandas) (1.25.1)\n",
      "Requirement already satisfied: six>=1.5 in /Users/songbinghui/miniconda3/lib/python3.10/site-packages (from python-dateutil>=2.8.2->pandas) (1.16.0)\n",
      "Requirement already satisfied: charset-normalizer<3,>=2 in /Users/songbinghui/miniconda3/lib/python3.10/site-packages (from requests>=2.26.0->tiktoken) (2.0.4)\n",
      "Requirement already satisfied: urllib3<1.27,>=1.21.1 in /Users/songbinghui/miniconda3/lib/python3.10/site-packages (from requests>=2.26.0->tiktoken) (1.26.15)\n",
      "Requirement already satisfied: certifi>=2017.4.17 in /Users/songbinghui/miniconda3/lib/python3.10/site-packages (from requests>=2.26.0->tiktoken) (2022.12.7)\n",
      "Requirement already satisfied: idna<4,>=2.5 in /Users/songbinghui/miniconda3/lib/python3.10/site-packages (from requests>=2.26.0->tiktoken) (3.4)\n",
      "Requirement already satisfied: async-timeout<5.0,>=4.0.0a3 in /Users/songbinghui/miniconda3/lib/python3.10/site-packages (from aiohttp->openai) (4.0.2)\n",
      "Requirement already satisfied: multidict<7.0,>=4.5 in /Users/songbinghui/miniconda3/lib/python3.10/site-packages (from aiohttp->openai) (6.0.4)\n",
      "Requirement already satisfied: aiosignal>=1.1.2 in /Users/songbinghui/miniconda3/lib/python3.10/site-packages (from aiohttp->openai) (1.3.1)\n",
      "Requirement already satisfied: attrs>=17.3.0 in /Users/songbinghui/miniconda3/lib/python3.10/site-packages (from aiohttp->openai) (23.1.0)\n",
      "Requirement already satisfied: frozenlist>=1.1.1 in /Users/songbinghui/miniconda3/lib/python3.10/site-packages (from aiohttp->openai) (1.4.0)\n",
      "Requirement already satisfied: yarl<2.0,>=1.0 in /Users/songbinghui/miniconda3/lib/python3.10/site-packages (from aiohttp->openai) (1.9.2)\n",
      "Note: you may need to restart the kernel to use updated packages.\n"
     ]
    }
   ],
   "source": [
    "\"\"\"\n",
    "依赖包准备\n",
    "\n",
    "pandas：用于数据处理/分析，提供了 DataFrame 数据结构，方便进行数据的读取、处理、分析等操作\n",
    "tiktoken：由 openai 开发，将文本转换成 token，示例：https://github.com/openai/openai-cookbook/blob/main/examples/How_to_count_tokens_with_tiktoken.ipynb\n",
    "openai\n",
    "chardet\n",
    "python-dotenv\n",
    "\"\"\"\n",
    "%pip install tiktoken chardet openai pandas python-dotenv"
   ]
  },
  {
   "cell_type": "code",
   "execution_count": 6,
   "metadata": {},
   "outputs": [
    {
     "name": "stdout",
     "output_type": "stream",
     "text": [
      "data/fine_food_reviews.csv: utf-8 with confidence 0.99\n"
     ]
    }
   ],
   "source": [
    "\"\"\"\n",
    "数据集准备\n",
    "\n",
    "亚马逊美食评论数据集：https://www.kaggle.com/datasets/snap/amazon-fine-food-reviews\n",
    "该数据集包含截至2012年10月用户在亚马逊上留下的共计568,454条美食评论。\n",
    "这些评论都是用英语撰写的，并且倾向于积极或消极。每个评论都有一个产品ID、用户ID、评分、标题（摘要）和正文。\n",
    "\n",
    "查看数据集编码方式，便于 pandas 可以以正确的编码 read_csv\n",
    "\"\"\"\n",
    "!chardetect \"data/fine_food_reviews.csv\""
   ]
  },
  {
   "cell_type": "code",
   "execution_count": 7,
   "metadata": {},
   "outputs": [
    {
     "data": {
      "text/html": [
       "<div>\n",
       "<style scoped>\n",
       "    .dataframe tbody tr th:only-of-type {\n",
       "        vertical-align: middle;\n",
       "    }\n",
       "\n",
       "    .dataframe tbody tr th {\n",
       "        vertical-align: top;\n",
       "    }\n",
       "\n",
       "    .dataframe thead th {\n",
       "        text-align: right;\n",
       "    }\n",
       "</style>\n",
       "<table border=\"1\" class=\"dataframe\">\n",
       "  <thead>\n",
       "    <tr style=\"text-align: right;\">\n",
       "      <th></th>\n",
       "      <th>Time</th>\n",
       "      <th>ProductId</th>\n",
       "      <th>UserId</th>\n",
       "      <th>Score</th>\n",
       "      <th>Summary</th>\n",
       "      <th>Text</th>\n",
       "      <th>combined</th>\n",
       "    </tr>\n",
       "    <tr>\n",
       "      <th>Id</th>\n",
       "      <th></th>\n",
       "      <th></th>\n",
       "      <th></th>\n",
       "      <th></th>\n",
       "      <th></th>\n",
       "      <th></th>\n",
       "      <th></th>\n",
       "    </tr>\n",
       "  </thead>\n",
       "  <tbody>\n",
       "    <tr>\n",
       "      <th>1</th>\n",
       "      <td>1303862400</td>\n",
       "      <td>B001E4KFG0</td>\n",
       "      <td>A3SGXH7AUHU8GW</td>\n",
       "      <td>5</td>\n",
       "      <td>Good Quality Dog Food</td>\n",
       "      <td>I have bought several of the Vitality canned d...</td>\n",
       "      <td>Title: Good Quality Dog Food; Content: I have ...</td>\n",
       "    </tr>\n",
       "    <tr>\n",
       "      <th>2</th>\n",
       "      <td>1346976000</td>\n",
       "      <td>B00813GRG4</td>\n",
       "      <td>A1D87F6ZCVE5NK</td>\n",
       "      <td>1</td>\n",
       "      <td>Not as Advertised</td>\n",
       "      <td>Product arrived labeled as Jumbo Salted Peanut...</td>\n",
       "      <td>Title: Not as Advertised; Content: Product arr...</td>\n",
       "    </tr>\n",
       "  </tbody>\n",
       "</table>\n",
       "</div>"
      ],
      "text/plain": [
       "          Time   ProductId          UserId  Score                Summary  \\\n",
       "Id                                                                         \n",
       "1   1303862400  B001E4KFG0  A3SGXH7AUHU8GW      5  Good Quality Dog Food   \n",
       "2   1346976000  B00813GRG4  A1D87F6ZCVE5NK      1      Not as Advertised   \n",
       "\n",
       "                                                 Text  \\\n",
       "Id                                                      \n",
       "1   I have bought several of the Vitality canned d...   \n",
       "2   Product arrived labeled as Jumbo Salted Peanut...   \n",
       "\n",
       "                                             combined  \n",
       "Id                                                     \n",
       "1   Title: Good Quality Dog Food; Content: I have ...  \n",
       "2   Title: Not as Advertised; Content: Product arr...  "
      ]
     },
     "execution_count": 7,
     "metadata": {},
     "output_type": "execute_result"
    }
   ],
   "source": [
    "import pandas as pd\n",
    "\n",
    "input_datapath = \"data/fine_food_reviews.csv\"\n",
    "df = pd.read_csv(input_datapath, index_col=0)\n",
    "df = df[[\"Time\", \"ProductId\", \"UserId\", \"Score\", \"Summary\", \"Text\"]]\n",
    "df = df.dropna()\n",
    "\n",
    "# 将 \"Summary\" 和 \"Text\" 字段组合成新的字段 \"combined\"\n",
    "df[\"combined\"] = (\n",
    "    \"Title: \" + df.Summary.str.strip() + \"; Content: \" + df.Text.str.strip()\n",
    ")\n",
    "df.head(2)"
   ]
  },
  {
   "cell_type": "code",
   "execution_count": 8,
   "metadata": {},
   "outputs": [
    {
     "data": {
      "text/plain": [
       "Id\n",
       "1         Title: Good Quality Dog Food; Content: I have ...\n",
       "2         Title: Not as Advertised; Content: Product arr...\n",
       "3         Title: \"Delight\" says it all; Content: This is...\n",
       "4         Title: Cough Medicine; Content: If you are loo...\n",
       "5         Title: Great taffy; Content: Great taffy at a ...\n",
       "                                ...                        \n",
       "568450    Title: Will not do without; Content: Great for...\n",
       "568451    Title: disappointed; Content: I'm disappointed...\n",
       "568452    Title: Perfect for our maltipoo; Content: Thes...\n",
       "568453    Title: Favorite Training and reward treat; Con...\n",
       "568454    Title: Great Honey; Content: I am very satisfi...\n",
       "Name: combined, Length: 568427, dtype: object"
      ]
     },
     "execution_count": 8,
     "metadata": {},
     "output_type": "execute_result"
    }
   ],
   "source": [
    "df[\"combined\"]"
   ]
  },
  {
   "cell_type": "code",
   "execution_count": 9,
   "metadata": {},
   "outputs": [
    {
     "data": {
      "text/plain": [
       "1000"
      ]
     },
     "execution_count": 9,
     "metadata": {},
     "output_type": "execute_result"
    }
   ],
   "source": [
    "import tiktoken\n",
    "\n",
    "# 官方推荐 embedding 模型，支持最大输入 Token 数 8191，输出向量维度 1536\n",
    "embedding_model = \"text-embedding-ada-002\"\n",
    "# cl100k_base 为 text-embedding-ada-002 模型对应的分词器（TOKENIZER）\n",
    "encoding_name = \"cl100k_base\"\n",
    "\n",
    "# 设置模型输入上限\n",
    "max_tokens = 8000\n",
    "# 仅筛选出 1000 条数据\n",
    "top_n = 1000\n",
    "# 按照时间取最近的 2000 条评论\n",
    "df = df.sort_values(\"Time\").tail(top_n * 2)\n",
    "# 从 DataFrame 中删除名为 \"Time\" 的列，并在原始的 DataFrame 上进行修改，而不返回新的 DataFrame。\n",
    "df.drop(\"Time\", axis=1, inplace=True)\n",
    "# 获取编码对象\n",
    "encoding = tiktoken.get_encoding(encoding_name)\n",
    "# 分别计算每个 combined 分词之后的 token 数量，并把结果存储在 n_tokens 列\n",
    "df[\"n_tokens\"] = df.combined.apply(lambda x: len(encoding.encode(x)))\n",
    "\n",
    "# 只保留 n_tokens 在 max_tokens 范围内的行数据\n",
    "df = df[df.n_tokens <= max_tokens].tail(top_n)\n",
    "\n",
    "len(df)"
   ]
  },
  {
   "cell_type": "code",
   "execution_count": 13,
   "metadata": {},
   "outputs": [],
   "source": [
    "# 从 openai.embeddings_utils 包中导入 get_embedding 函数。\n",
    "\n",
    "import os\n",
    "import openai\n",
    "from dotenv import load_dotenv\n",
    "load_dotenv()\n",
    "\n",
    "openai.api_type = \"azure\"\n",
    "openai.api_key = os.getenv('API_KEY')\n",
    "openai.api_base = \"https://binghuis.openai.azure.com/\"\n",
    "openai.api_version = \"2023-05-15\"\n",
    "deployment_id = \"embedding\"\n",
    "\n",
    "df[\"embedding\"] = df.combined.apply(\n",
    "    lambda x: openai.Embedding.create(\n",
    "        deployment_id=deployment_id,\n",
    "        input=x,\n",
    "    )\n",
    ")\n",
    "\n",
    "output_datapath = \"data/fine_food_reviews_with_embeddings_1k.csv\"\n",
    "df.to_csv(output_datapath, index=False)"
   ]
  }
 ],
 "metadata": {
  "kernelspec": {
   "display_name": "Python 3",
   "language": "python",
   "name": "python3"
  },
  "language_info": {
   "codemirror_mode": {
    "name": "ipython",
    "version": 3
   },
   "file_extension": ".py",
   "mimetype": "text/x-python",
   "name": "python",
   "nbconvert_exporter": "python",
   "pygments_lexer": "ipython3",
   "version": "3.10.10"
  },
  "orig_nbformat": 4
 },
 "nbformat": 4,
 "nbformat_minor": 2
}
