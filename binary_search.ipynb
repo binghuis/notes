{
 "cells": [
  {
   "cell_type": "code",
   "execution_count": 3,
   "metadata": {},
   "outputs": [
    {
     "name": "stdout",
     "output_type": "stream",
     "text": [
      "3\n"
     ]
    }
   ],
   "source": [
    "def binary_search(lst, n):\n",
    "    left = 0\n",
    "    right = len(lst) - 1\n",
    "    \n",
    "    while left <= right:\n",
    "        mid = (left + right) // 2\n",
    "        \n",
    "        if lst[mid] > n:\n",
    "            right = mid - 1\n",
    "        elif lst[mid] < n:\n",
    "            left = mid + 1\n",
    "        else:\n",
    "            return mid\n",
    "            \n",
    "    return None\n",
    "\n",
    "print(binary_search([1, 2, 3, 4, 5, 6], 4))\n"
   ]
  }
 ],
 "metadata": {
  "kernelspec": {
   "display_name": "Python 3",
   "language": "python",
   "name": "python3"
  },
  "language_info": {
   "codemirror_mode": {
    "name": "ipython",
    "version": 3
   },
   "file_extension": ".py",
   "mimetype": "text/x-python",
   "name": "python",
   "nbconvert_exporter": "python",
   "pygments_lexer": "ipython3",
   "version": "3.10.6"
  },
  "orig_nbformat": 4
 },
 "nbformat": 4,
 "nbformat_minor": 2
}
